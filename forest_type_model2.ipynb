{
 "cells": [
  {
   "cell_type": "code",
   "execution_count": 2,
   "id": "f23f8867-7be9-4072-a28b-30d920f04d15",
   "metadata": {},
   "outputs": [],
   "source": [
    "import glob\n",
    "import pandas as pd\n",
    "\n",
    "file = glob.glob(\"train/train.tsv\")\n",
    "pd.read_csv(\"train/train.tsv\", delimiter='\\t')\n",
    "data_list = []\n",
    "data_list.append(pd.read_csv(\"train/train.tsv\", delimiter='\\t', index_col=0))\n",
    "df = pd.concat(data_list)"
   ]
  },
  {
   "cell_type": "code",
   "execution_count": 3,
   "id": "aa435036-6745-4263-b43b-ffc5776f18e5",
   "metadata": {
    "scrolled": true
   },
   "outputs": [
    {
     "name": "stdout",
     "output_type": "stream",
     "text": [
      "[LightGBM] [Info] Auto-choosing row-wise multi-threading, the overhead of testing was 0.001395 seconds.\n",
      "You can set `force_row_wise=true` to remove the overhead.\n",
      "And if memory is not enough, you can set `force_col_wise=true`.\n",
      "[LightGBM] [Info] Total Bins 2263\n",
      "[LightGBM] [Info] Number of data points in the train set: 232404, number of used features: 53\n",
      "[LightGBM] [Info] Start training from score -1.010496\n",
      "[LightGBM] [Info] Start training from score -0.717265\n",
      "[LightGBM] [Info] Start training from score -2.788987\n",
      "[LightGBM] [Info] Start training from score -5.318327\n",
      "[LightGBM] [Info] Start training from score -4.125123\n",
      "[LightGBM] [Info] Start training from score -3.500427\n",
      "[LightGBM] [Info] Start training from score -3.348253\n",
      "Accuracy: 82.66%\n"
     ]
    }
   ],
   "source": [
    "from sklearn.model_selection import train_test_split\n",
    "from sklearn.metrics import accuracy_score\n",
    "import lightgbm as lgb\n",
    "\n",
    "X = df.drop('Cover_Type', axis=1)\n",
    "y = df['Cover_Type']\n",
    "X_train, X_test, y_train, y_test = train_test_split(X, y, test_size=0.2, random_state=42)\n",
    "\n",
    "# LightGBMのモデルを設定\n",
    "model = lgb.LGBMClassifier(num_leaves=31, learning_rate=0.05, n_estimators=100)\n",
    "\n",
    "# モデルをトレーニング\n",
    "model.fit(X_train, y_train)\n",
    "\n",
    "# テストデータに対する予測\n",
    "y_pred = model.predict(X_test)\n",
    "\n",
    "# 予測結果の評価\n",
    "accuracy = accuracy_score(y_test, y_pred)\n",
    "print(\"Accuracy: %.2f%%\" % (accuracy * 100.0))#適合率の表示"
   ]
  },
  {
   "cell_type": "code",
   "execution_count": 37,
   "id": "104e465c-d327-4756-8794-aa1f270ae639",
   "metadata": {},
   "outputs": [],
   "source": [
    "# テストデータを読み込む\n",
    "df_test = pd.read_csv(\"train/test.tsv\", delimiter='\\t')#tsv形式のため区切り文字はタブ\n",
    "df_test = df_test.rename(columns={df_test.columns[0]: 'id'})#df_testの０列目がid用なのでidと名付け\n",
    "# テストデータから予測に必要な特徴量を選択\n",
    "X_test_competition = df_test.drop('id', axis=1)  # idは予測には不要なので除外\n",
    "\n",
    "# 先のセルで学習済みモデルを使用して予測を行う\n",
    "y_pred_competition = model.predict(X_test_competition)\n",
    "\n",
    "# 予測結果をデータフレームに保存\n",
    "results_df = pd.DataFrame({\n",
    "    'ID': df_test['id'],  # テストデータのID列\n",
    "    'Predicted_Cover_Type': y_pred_competition\n",
    "})\n",
    "results_df\n",
    "# ファイルに書き出し（ヘッダーなし、インデックスなし）\n",
    "results_df.to_csv('sample_submit.csv', index=False, header=False)"
   ]
  }
 ],
 "metadata": {
  "kernelspec": {
   "display_name": "Python 3 (ipykernel)",
   "language": "python",
   "name": "python3"
  },
  "language_info": {
   "codemirror_mode": {
    "name": "ipython",
    "version": 3
   },
   "file_extension": ".py",
   "mimetype": "text/x-python",
   "name": "python",
   "nbconvert_exporter": "python",
   "pygments_lexer": "ipython3",
   "version": "3.8.13"
  }
 },
 "nbformat": 4,
 "nbformat_minor": 5
}
