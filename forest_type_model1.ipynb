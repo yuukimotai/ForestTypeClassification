{
 "cells": [
  {
   "cell_type": "code",
   "execution_count": 6,
   "id": "e6db0e0a-04fb-4ea6-b819-5d110ac43fef",
   "metadata": {},
   "outputs": [],
   "source": [
    "import glob\n",
    "import pandas as pd\n",
    "import numpy as np\n",
    "import matplotlib.pyplot as plt\n",
    "import seaborn as sns\n",
    "%matplotlib inline\n",
    "\n",
    "file = glob.glob(\"train/train.tsv\")\n",
    "pd.read_csv(\"train/train.tsv\", delimiter='\\t')\n",
    "data_list = []\n",
    "data_list.append(pd.read_csv(\"train/train.tsv\", delimiter='\\t', index_col=0))\n",
    "df = pd.concat(data_list)\n",
    "#df.info()"
   ]
  },
  {
   "cell_type": "code",
   "execution_count": 2,
   "id": "1eb21740-605c-41fb-9085-5800bb987a00",
   "metadata": {},
   "outputs": [
    {
     "name": "stdout",
     "output_type": "stream",
     "text": [
      "[LightGBM] [Info] Auto-choosing row-wise multi-threading, the overhead of testing was 0.001318 seconds.\n",
      "You can set `force_row_wise=true` to remove the overhead.\n",
      "And if memory is not enough, you can set `force_col_wise=true`.\n",
      "[LightGBM] [Info] Total Bins 2269\n",
      "[LightGBM] [Info] Number of data points in the train set: 232404, number of used features: 53\n",
      "[LightGBM] [Info] Start training from score 2.052968\n",
      "Training until validation scores don't improve for 10 rounds\n",
      "Did not meet early stopping. Best iteration is:\n",
      "[1000]\tvalid_0's l1: 0.35067\n"
     ]
    }
   ],
   "source": [
    "import lightgbm as lgb\n",
    "from sklearn.model_selection import train_test_split\n",
    "from sklearn.metrics import mean_absolute_error as mae\n",
    "df_train, df_val = train_test_split(df, test_size=0.2)\n",
    "# print(type(df))\n",
    "# print(type(df_train))\n",
    "# print(type(df_val))\n",
    "\n",
    "col = \"Cover_Type\"\n",
    "\n",
    "train_y = df_train[col]\n",
    "train_x = df_train.drop(col, axis=1)\n",
    "\n",
    "val_y = df_val[col]\n",
    "val_x = df_val.drop(col, axis=1)\n",
    "\n",
    "trains = lgb.Dataset(train_x, train_y)\n",
    "valids = lgb.Dataset(val_x, val_y)\n",
    "\n",
    "params = {\n",
    "    \"objective\": \"regression\",\n",
    "    \"metrics\": \"mae\"\n",
    "}\n",
    "\n",
    "model = lgb.train(params, trains, valid_sets=valids,\n",
    "                  num_boost_round=1000,\n",
    "                  callbacks=[lgb.early_stopping(stopping_rounds=10, verbose=True)])\n"
   ]
  },
  {
   "cell_type": "code",
   "execution_count": 16,
   "id": "6f99f08e-0637-458e-afcc-230b5f9192cb",
   "metadata": {},
   "outputs": [
    {
     "data": {
      "text/plain": [
       "15.339275512524157"
      ]
     },
     "execution_count": 16,
     "metadata": {},
     "output_type": "execute_result"
    }
   ],
   "source": [
    "vals = model.predict(val_x)\n",
    "mae(vals, val_y)"
   ]
  },
  {
   "cell_type": "code",
   "execution_count": 17,
   "id": "026c4719-ac2d-45ca-a06d-deddf138e2d1",
   "metadata": {},
   "outputs": [],
   "source": [
    "df_test = pd.read_csv(\"train/test.tsv\", delimiter='\\t', index_col=0)\n",
    "predict = model.predict(df_test)\n",
    "\n",
    "df_test[\"Cover_Type\"] = predict\n",
    "#df_test[[\"Vertical_Distance_To_Hydrology\"]].to_csv(\"submit_test.csv\")"
   ]
  },
  {
   "cell_type": "code",
   "execution_count": 7,
   "id": "feebff37-1a5b-4e82-baa9-1a80783606e3",
   "metadata": {},
   "outputs": [
    {
     "name": "stdout",
     "output_type": "stream",
     "text": [
      "[LightGBM] [Info] Auto-choosing row-wise multi-threading, the overhead of testing was 0.001088 seconds.\n",
      "You can set `force_row_wise=true` to remove the overhead.\n",
      "And if memory is not enough, you can set `force_col_wise=true`.\n",
      "[LightGBM] [Info] Total Bins 2261\n",
      "[LightGBM] [Info] Number of data points in the train set: 185923, number of used features: 53\n",
      "[LightGBM] [Info] Start training from score -1.008859\n",
      "[LightGBM] [Info] Start training from score -0.717103\n",
      "[LightGBM] [Info] Start training from score -2.801238\n",
      "[LightGBM] [Info] Start training from score -5.348631\n",
      "[LightGBM] [Info] Start training from score -4.096838\n",
      "[LightGBM] [Info] Start training from score -3.511535\n",
      "[LightGBM] [Info] Start training from score -3.345715\n",
      "Accuracy: 82.40%\n"
     ]
    }
   ],
   "source": [
    "from sklearn.model_selection import train_test_split\n",
    "from sklearn.metrics import accuracy_score\n",
    "import lightgbm as lgb\n",
    "\n",
    "X = df_train.drop('Cover_Type', axis=1)\n",
    "y = df_train['Cover_Type']\n",
    "X_train, X_test, y_train, y_test = train_test_split(X, y, test_size=0.2, random_state=42)\n",
    "\n",
    "# LightGBMのモデルを設定\n",
    "model = lgb.LGBMClassifier(num_leaves=31, learning_rate=0.05, n_estimators=100)\n",
    "\n",
    "# モデルをトレーニング\n",
    "model.fit(X_train, y_train)\n",
    "\n",
    "# テストデータに対する予測\n",
    "y_pred = model.predict(X_test)\n",
    "\n",
    "# 予測結果の評価\n",
    "accuracy = accuracy_score(y_test, y_pred)\n",
    "print(\"Accuracy: %.2f%%\" % (accuracy * 100.0))"
   ]
  },
  {
   "cell_type": "code",
   "execution_count": 15,
   "id": "3f6901b1-16cc-4b05-8cff-95edd0da5bf6",
   "metadata": {},
   "outputs": [
    {
     "name": "stdout",
     "output_type": "stream",
     "text": [
      "    Index  Predicted_Cover_Type\n",
      "1   97293                     2\n",
      "2  515976                     2\n",
      "3  560531                     1\n",
      "4     107                     1\n",
      "5   34849                     2\n"
     ]
    }
   ],
   "source": [
    "import pandas as pd\n",
    "\n",
    "# テストデータの予測\n",
    "y_pred = model.predict(X_test)\n",
    "\n",
    "# 予測結果をDataFrameに保存\n",
    "results_df = pd.DataFrame({\n",
    "    'Index': X_test.index, \n",
    "    'Predicted_Cover_Type': y_pred\n",
    "})\n",
    "# インデックスを1から開始するように調整\n",
    "results_df.index = range(1, len(results_df) + 1)\n",
    "\n",
    "# データフレームの内容を確認\n",
    "print(results_df.head())\n",
    "# CSVファイルに書き出し（ヘッダーとインデックスは含めない）\n",
    "results_df.to_csv('sample_submit.csv', index=False, header=False)"
   ]
  }
 ],
 "metadata": {
  "kernelspec": {
   "display_name": "Python 3 (ipykernel)",
   "language": "python",
   "name": "python3"
  },
  "language_info": {
   "codemirror_mode": {
    "name": "ipython",
    "version": 3
   },
   "file_extension": ".py",
   "mimetype": "text/x-python",
   "name": "python",
   "nbconvert_exporter": "python",
   "pygments_lexer": "ipython3",
   "version": "3.8.13"
  }
 },
 "nbformat": 4,
 "nbformat_minor": 5
}
