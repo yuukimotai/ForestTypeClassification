{
 "cells": [
  {
   "cell_type": "code",
   "execution_count": 4,
   "id": "e6db0e0a-04fb-4ea6-b819-5d110ac43fef",
   "metadata": {},
   "outputs": [],
   "source": [
    "import glob\n",
    "import pandas as pd\n",
    "import numpy as np\n",
    "import matplotlib.pyplot as plt\n",
    "import seaborn as sns\n",
    "%matplotlib inline\n",
    "\n",
    "file = glob.glob(\"train/train.tsv\")\n",
    "pd.read_csv(\"train/train.tsv\", delimiter='\\t')\n",
    "data_list = []\n",
    "data_list.append(pd.read_csv(\"train/train.tsv\", delimiter='\\t', index_col=0))\n",
    "df = pd.concat(data_list)\n",
    "#df.info()"
   ]
  },
  {
   "cell_type": "code",
   "execution_count": 13,
   "id": "1eb21740-605c-41fb-9085-5800bb987a00",
   "metadata": {},
   "outputs": [
    {
     "name": "stdout",
     "output_type": "stream",
     "text": [
      "<class 'pandas.core.frame.DataFrame'>\n",
      "<class 'pandas.core.frame.DataFrame'>\n",
      "<class 'pandas.core.frame.DataFrame'>\n",
      "[LightGBM] [Info] Auto-choosing row-wise multi-threading, the overhead of testing was 0.001495 seconds.\n",
      "You can set `force_row_wise=true` to remove the overhead.\n",
      "And if memory is not enough, you can set `force_col_wise=true`.\n",
      "[LightGBM] [Info] Total Bins 2015\n",
      "[LightGBM] [Info] Number of data points in the train set: 232404, number of used features: 53\n",
      "[LightGBM] [Info] Start training from score 46.323385\n",
      "Training until validation scores don't improve for 10 rounds\n",
      "Did not meet early stopping. Best iteration is:\n",
      "[1000]\tvalid_0's l1: 15.3393\n"
     ]
    }
   ],
   "source": [
    "import lightgbm as lgb\n",
    "from sklearn.model_selection import train_test_split\n",
    "from sklearn.metrics import mean_absolute_error as mae\n",
    "df_train, df_val = train_test_split(df, test_size=0.2)\n",
    "print(type(df))\n",
    "print(type(df_train))\n",
    "print(type(df_val))\n",
    "\n",
    "col = \"Vertical_Distance_To_Hydrology\"\n",
    "\n",
    "train_y = df_train[col]\n",
    "train_x = df_train.drop(col, axis=1)\n",
    "\n",
    "val_y = df_val[col]\n",
    "val_x = df_val.drop(col, axis=1)\n",
    "\n",
    "trains = lgb.Dataset(train_x, train_y)\n",
    "valids = lgb.Dataset(val_x, val_y)\n",
    "\n",
    "params = {\n",
    "    \"objective\": \"regression\",\n",
    "    \"metrics\": \"mae\"\n",
    "}\n",
    "\n",
    "model = lgb.train(params, trains, valid_sets=valids,\n",
    "                  num_boost_round=1000,\n",
    "                  callbacks=[lgb.early_stopping(stopping_rounds=10, verbose=True)])\n"
   ]
  },
  {
   "cell_type": "code",
   "execution_count": 16,
   "id": "6f99f08e-0637-458e-afcc-230b5f9192cb",
   "metadata": {},
   "outputs": [
    {
     "data": {
      "text/plain": [
       "15.339275512524157"
      ]
     },
     "execution_count": 16,
     "metadata": {},
     "output_type": "execute_result"
    }
   ],
   "source": [
    "vals = model.predict(val_x)\n",
    "mae(vals, val_y)"
   ]
  },
  {
   "cell_type": "code",
   "execution_count": 17,
   "id": "026c4719-ac2d-45ca-a06d-deddf138e2d1",
   "metadata": {},
   "outputs": [],
   "source": [
    "df_test = pd.read_csv(\"train/test.tsv\", delimiter='\\t', index_col=0)\n",
    "predict = model.predict(df_test)\n",
    "\n",
    "df_test[\"Vertical_Distance_To_Hydrology\"] = predict\n",
    "df_test[[\"Vertical_Distance_To_Hydrology\"]].to_csv(\"submit_test.csv\")"
   ]
  }
 ],
 "metadata": {
  "kernelspec": {
   "display_name": "Python 3 (ipykernel)",
   "language": "python",
   "name": "python3"
  },
  "language_info": {
   "codemirror_mode": {
    "name": "ipython",
    "version": 3
   },
   "file_extension": ".py",
   "mimetype": "text/x-python",
   "name": "python",
   "nbconvert_exporter": "python",
   "pygments_lexer": "ipython3",
   "version": "3.11.7"
  }
 },
 "nbformat": 4,
 "nbformat_minor": 5
}
